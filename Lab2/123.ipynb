{
 "cells": [
  {
   "cell_type": "code",
   "execution_count": 162,
   "id": "117e0735",
   "metadata": {},
   "outputs": [],
   "source": [
    "import pandas as pd\n",
    "import numpy as np\n",
    "\n",
    "PLdf = pd.read_csv('PLvacation.csv', header=1)\n",
    "GBdf = pd.read_csv('GBvacation.csv', header=1)\n",
    "USAdf = pd.read_csv('USAvacation.csv', header=1)\n",
    "\n",
    "PLdf['datetime']=pd.to_datetime(PLdf['Miesiąc'])\n",
    "PLdf.drop('Miesiąc',axis=1,inplace=True)\n",
    "\n",
    "GBdf['datetime']=pd.to_datetime(GBdf['Miesiąc'])\n",
    "GBdf.drop('Miesiąc',axis=1,inplace=True)\n",
    "\n",
    "USAdf['datetime']=pd.to_datetime(USAdf['Miesiąc'])\n",
    "USAdf.drop('Miesiąc',axis=1,inplace=True)\n"
   ]
  },
  {
   "cell_type": "code",
   "execution_count": 164,
   "id": "6ee34bd7",
   "metadata": {},
   "outputs": [],
   "source": [
    "PLdf.rename(columns={'vacation: (Polska)': \"PL\"}, inplace=True)\n",
    "GBdf.rename(columns={'vacation: (Wielka Brytania)': \"GB\"}, inplace=True)\n",
    "USAdf.rename(columns={'vacation: (Stany Zjednoczone)': \"USA\"}, inplace=True)"
   ]
  },
  {
   "cell_type": "code",
   "execution_count": 188,
   "id": "8b5767bd",
   "metadata": {},
   "outputs": [
    {
     "data": {
      "text/html": [
       "<div>\n",
       "<style scoped>\n",
       "    .dataframe tbody tr th:only-of-type {\n",
       "        vertical-align: middle;\n",
       "    }\n",
       "\n",
       "    .dataframe tbody tr th {\n",
       "        vertical-align: top;\n",
       "    }\n",
       "\n",
       "    .dataframe thead th {\n",
       "        text-align: right;\n",
       "    }\n",
       "</style>\n",
       "<table border=\"1\" class=\"dataframe\">\n",
       "  <thead>\n",
       "    <tr style=\"text-align: right;\">\n",
       "      <th></th>\n",
       "      <th>datetime</th>\n",
       "      <th>PL</th>\n",
       "      <th>GB</th>\n",
       "      <th>USA</th>\n",
       "    </tr>\n",
       "  </thead>\n",
       "  <tbody>\n",
       "    <tr>\n",
       "      <th>0</th>\n",
       "      <td>2004-01-01</td>\n",
       "      <td>42</td>\n",
       "      <td>38</td>\n",
       "      <td>87</td>\n",
       "    </tr>\n",
       "    <tr>\n",
       "      <th>1</th>\n",
       "      <td>2004-02-01</td>\n",
       "      <td>100</td>\n",
       "      <td>32</td>\n",
       "      <td>76</td>\n",
       "    </tr>\n",
       "    <tr>\n",
       "      <th>2</th>\n",
       "      <td>2004-03-01</td>\n",
       "      <td>66</td>\n",
       "      <td>35</td>\n",
       "      <td>71</td>\n",
       "    </tr>\n",
       "    <tr>\n",
       "      <th>3</th>\n",
       "      <td>2004-04-01</td>\n",
       "      <td>90</td>\n",
       "      <td>33</td>\n",
       "      <td>66</td>\n",
       "    </tr>\n",
       "    <tr>\n",
       "      <th>4</th>\n",
       "      <td>2004-05-01</td>\n",
       "      <td>82</td>\n",
       "      <td>33</td>\n",
       "      <td>80</td>\n",
       "    </tr>\n",
       "    <tr>\n",
       "      <th>...</th>\n",
       "      <td>...</td>\n",
       "      <td>...</td>\n",
       "      <td>...</td>\n",
       "      <td>...</td>\n",
       "    </tr>\n",
       "    <tr>\n",
       "      <th>214</th>\n",
       "      <td>2021-11-01</td>\n",
       "      <td>37</td>\n",
       "      <td>24</td>\n",
       "      <td>48</td>\n",
       "    </tr>\n",
       "    <tr>\n",
       "      <th>215</th>\n",
       "      <td>2021-12-01</td>\n",
       "      <td>69</td>\n",
       "      <td>42</td>\n",
       "      <td>61</td>\n",
       "    </tr>\n",
       "    <tr>\n",
       "      <th>216</th>\n",
       "      <td>2022-01-01</td>\n",
       "      <td>70</td>\n",
       "      <td>31</td>\n",
       "      <td>52</td>\n",
       "    </tr>\n",
       "    <tr>\n",
       "      <th>217</th>\n",
       "      <td>2022-02-01</td>\n",
       "      <td>86</td>\n",
       "      <td>27</td>\n",
       "      <td>53</td>\n",
       "    </tr>\n",
       "    <tr>\n",
       "      <th>218</th>\n",
       "      <td>2022-03-01</td>\n",
       "      <td>47</td>\n",
       "      <td>22</td>\n",
       "      <td>50</td>\n",
       "    </tr>\n",
       "  </tbody>\n",
       "</table>\n",
       "<p>219 rows × 4 columns</p>\n",
       "</div>"
      ],
      "text/plain": [
       "      datetime   PL  GB  USA\n",
       "0   2004-01-01   42  38   87\n",
       "1   2004-02-01  100  32   76\n",
       "2   2004-03-01   66  35   71\n",
       "3   2004-04-01   90  33   66\n",
       "4   2004-05-01   82  33   80\n",
       "..         ...  ...  ..  ...\n",
       "214 2021-11-01   37  24   48\n",
       "215 2021-12-01   69  42   61\n",
       "216 2022-01-01   70  31   52\n",
       "217 2022-02-01   86  27   53\n",
       "218 2022-03-01   47  22   50\n",
       "\n",
       "[219 rows x 4 columns]"
      ]
     },
     "execution_count": 188,
     "metadata": {},
     "output_type": "execute_result"
    }
   ],
   "source": [
    "frames = [PLdf, GBdf, USAdf]\n",
    "\n",
    "df=pd.merge(PLdf, GBdf, on=('datetime'))\n",
    "df=pd.merge(df, USAdf, on=('datetime'))\n",
    "columns_titles = [\"datetime\",\"PL\",\"GB\",\"USA\"]\n",
    "\n",
    "df=df.reindex(columns=columns_titles)\n",
    "\n",
    "df"
   ]
  },
  {
   "cell_type": "code",
   "execution_count": 183,
   "id": "eebdea01",
   "metadata": {},
   "outputs": [
    {
     "data": {
      "text/plain": [
       "<AxesSubplot:xlabel='datetime'>"
      ]
     },
     "execution_count": 183,
     "metadata": {},
     "output_type": "execute_result"
    },
    {
     "data": {
      "image/png": "[encoded data removed]",
      "text/plain": [
       "<Figure size 432x288 with 1 Axes>"
      ]
     },
     "metadata": {
      "needs_background": "light"
     },
     "output_type": "display_data"
    }
   ],
   "source": [
    "import matplotlib.pyplot as plt\n",
    "df.plot(x='datetime')"
   ]
  },
  {
   "cell_type": "code",
   "execution_count": 216,
   "id": "211902c3",
   "metadata": {},
   "outputs": [
    {
     "data": {
      "text/html": [
       "<div>\n",
       "<style scoped>\n",
       "    .dataframe tbody tr th:only-of-type {\n",
       "        vertical-align: middle;\n",
       "    }\n",
       "\n",
       "    .dataframe tbody tr th {\n",
       "        vertical-align: top;\n",
       "    }\n",
       "\n",
       "    .dataframe thead th {\n",
       "        text-align: right;\n",
       "    }\n",
       "</style>\n",
       "<table border=\"1\" class=\"dataframe\">\n",
       "  <thead>\n",
       "    <tr style=\"text-align: right;\">\n",
       "      <th></th>\n",
       "      <th>PL</th>\n",
       "      <th>GB</th>\n",
       "      <th>USA</th>\n",
       "    </tr>\n",
       "  </thead>\n",
       "  <tbody>\n",
       "    <tr>\n",
       "      <th>count</th>\n",
       "      <td>219.000000</td>\n",
       "      <td>219.000000</td>\n",
       "      <td>219.000000</td>\n",
       "    </tr>\n",
       "    <tr>\n",
       "      <th>mean</th>\n",
       "      <td>45.794521</td>\n",
       "      <td>24.543379</td>\n",
       "      <td>58.301370</td>\n",
       "    </tr>\n",
       "    <tr>\n",
       "      <th>std</th>\n",
       "      <td>17.214213</td>\n",
       "      <td>14.441330</td>\n",
       "      <td>14.830249</td>\n",
       "    </tr>\n",
       "    <tr>\n",
       "      <th>min</th>\n",
       "      <td>10.000000</td>\n",
       "      <td>13.000000</td>\n",
       "      <td>26.000000</td>\n",
       "    </tr>\n",
       "    <tr>\n",
       "      <th>25%</th>\n",
       "      <td>33.000000</td>\n",
       "      <td>17.000000</td>\n",
       "      <td>49.000000</td>\n",
       "    </tr>\n",
       "    <tr>\n",
       "      <th>50%</th>\n",
       "      <td>42.000000</td>\n",
       "      <td>20.000000</td>\n",
       "      <td>56.000000</td>\n",
       "    </tr>\n",
       "    <tr>\n",
       "      <th>75%</th>\n",
       "      <td>54.000000</td>\n",
       "      <td>24.500000</td>\n",
       "      <td>67.000000</td>\n",
       "    </tr>\n",
       "    <tr>\n",
       "      <th>max</th>\n",
       "      <td>100.000000</td>\n",
       "      <td>100.000000</td>\n",
       "      <td>100.000000</td>\n",
       "    </tr>\n",
       "  </tbody>\n",
       "</table>\n",
       "</div>"
      ],
      "text/plain": [
       "               PL          GB         USA\n",
       "count  219.000000  219.000000  219.000000\n",
       "mean    45.794521   24.543379   58.301370\n",
       "std     17.214213   14.441330   14.830249\n",
       "min     10.000000   13.000000   26.000000\n",
       "25%     33.000000   17.000000   49.000000\n",
       "50%     42.000000   20.000000   56.000000\n",
       "75%     54.000000   24.500000   67.000000\n",
       "max    100.000000  100.000000  100.000000"
      ]
     },
     "execution_count": 216,
     "metadata": {},
     "output_type": "execute_result"
    }
   ],
   "source": [
    "df.describe()"
   ]
  },
  {
   "cell_type": "code",
   "execution_count": 257,
   "id": "ea3dc5ed",
   "metadata": {},
   "outputs": [
    {
     "data": {
      "text/plain": [
       "<AxesSubplot:>"
      ]
     },
     "execution_count": 257,
     "metadata": {},
     "output_type": "execute_result"
    },
    {
     "data": {
      "image/png": "[encoded data removed]",
      "text/plain": [
       "<Figure size 432x288 with 1 Axes>"
      ]
     },
     "metadata": {
      "needs_background": "light"
     },
     "output_type": "display_data"
    }
   ],
   "source": [
    "df[\"PL\"].hist()\n",
    "df[\"GB\"].hist()\n",
    "df[\"USA\"].hist()"
   ]
  },
  {
   "cell_type": "code",
   "execution_count": 272,
   "id": "b41189ac",
   "metadata": {},
   "outputs": [
    {
     "data": {
      "text/plain": [
       "<matplotlib.legend.Legend at 0x226528d6f40>"
      ]
     },
     "execution_count": 272,
     "metadata": {},
     "output_type": "execute_result"
    },
    {
     "data": {
      "image/png": "[encoded data removed]",
      "text/plain": [
       "<Figure size 432x288 with 1 Axes>"
      ]
     },
     "metadata": {
      "needs_background": "light"
     },
     "output_type": "display_data"
    }
   ],
   "source": [
    "plt=df['PL'].plot.density(label='PL')\n",
    "df['GB'].plot.density()\n",
    "df['USA'].plot.density()\n",
    "plt.legend('PL GB USA'.split())"
   ]
  },
  {
   "cell_type": "code",
   "execution_count": 432,
   "id": "2acc7a74",
   "metadata": {},
   "outputs": [
    {
     "data": {
      "text/html": [
       "<div>\n",
       "<style scoped>\n",
       "    .dataframe tbody tr th:only-of-type {\n",
       "        vertical-align: middle;\n",
       "    }\n",
       "\n",
       "    .dataframe tbody tr th {\n",
       "        vertical-align: top;\n",
       "    }\n",
       "\n",
       "    .dataframe thead th {\n",
       "        text-align: right;\n",
       "    }\n",
       "</style>\n",
       "<table border=\"1\" class=\"dataframe\">\n",
       "  <thead>\n",
       "    <tr style=\"text-align: right;\">\n",
       "      <th></th>\n",
       "      <th>Date</th>\n",
       "      <th>Value</th>\n",
       "      <th>Anomaly</th>\n",
       "    </tr>\n",
       "  </thead>\n",
       "  <tbody>\n",
       "    <tr>\n",
       "      <th>0</th>\n",
       "      <td>193804</td>\n",
       "      <td>57.6</td>\n",
       "      <td>0.3</td>\n",
       "    </tr>\n",
       "    <tr>\n",
       "      <th>1</th>\n",
       "      <td>193805</td>\n",
       "      <td>65.6</td>\n",
       "      <td>-1.4</td>\n",
       "    </tr>\n",
       "    <tr>\n",
       "      <th>2</th>\n",
       "      <td>193806</td>\n",
       "      <td>74.4</td>\n",
       "      <td>-2.0</td>\n",
       "    </tr>\n",
       "    <tr>\n",
       "      <th>3</th>\n",
       "      <td>193807</td>\n",
       "      <td>81.6</td>\n",
       "      <td>1.3</td>\n",
       "    </tr>\n",
       "    <tr>\n",
       "      <th>4</th>\n",
       "      <td>193808</td>\n",
       "      <td>82.1</td>\n",
       "      <td>3.5</td>\n",
       "    </tr>\n",
       "    <tr>\n",
       "      <th>...</th>\n",
       "      <td>...</td>\n",
       "      <td>...</td>\n",
       "      <td>...</td>\n",
       "    </tr>\n",
       "    <tr>\n",
       "      <th>1001</th>\n",
       "      <td>202109</td>\n",
       "      <td>74.9</td>\n",
       "      <td>4.0</td>\n",
       "    </tr>\n",
       "    <tr>\n",
       "      <th>1002</th>\n",
       "      <td>202110</td>\n",
       "      <td>63.9</td>\n",
       "      <td>4.4</td>\n",
       "    </tr>\n",
       "    <tr>\n",
       "      <th>1003</th>\n",
       "      <td>202111</td>\n",
       "      <td>46.7</td>\n",
       "      <td>0.6</td>\n",
       "    </tr>\n",
       "    <tr>\n",
       "      <th>1004</th>\n",
       "      <td>202112</td>\n",
       "      <td>47.0</td>\n",
       "      <td>11.4</td>\n",
       "    </tr>\n",
       "    <tr>\n",
       "      <th>1005</th>\n",
       "      <td>202201</td>\n",
       "      <td>29.4</td>\n",
       "      <td>-1.9</td>\n",
       "    </tr>\n",
       "  </tbody>\n",
       "</table>\n",
       "<p>1006 rows × 3 columns</p>\n",
       "</div>"
      ],
      "text/plain": [
       "        Date  Value  Anomaly\n",
       "0     193804   57.6      0.3\n",
       "1     193805   65.6     -1.4\n",
       "2     193806   74.4     -2.0\n",
       "3     193807   81.6      1.3\n",
       "4     193808   82.1      3.5\n",
       "...      ...    ...      ...\n",
       "1001  202109   74.9      4.0\n",
       "1002  202110   63.9      4.4\n",
       "1003  202111   46.7      0.6\n",
       "1004  202112   47.0     11.4\n",
       "1005  202201   29.4     -1.9\n",
       "\n",
       "[1006 rows x 3 columns]"
      ]
     },
     "execution_count": 432,
     "metadata": {},
     "output_type": "execute_result"
    }
   ],
   "source": [
    "SLdf = pd.read_csv('StLouis.csv', header=4)\n",
    "SLdf"
   ]
  },
  {
   "cell_type": "code",
   "execution_count": 433,
   "id": "ec147c71",
   "metadata": {},
   "outputs": [
    {
     "data": {
      "text/plain": [
       "0       193804\n",
       "1       193805\n",
       "2       193806\n",
       "3       193807\n",
       "4       193808\n",
       "         ...  \n",
       "1001    202109\n",
       "1002    202110\n",
       "1003    202111\n",
       "1004    202112\n",
       "1005    202201\n",
       "Name: Date, Length: 1006, dtype: int64"
      ]
     },
     "execution_count": 433,
     "metadata": {},
     "output_type": "execute_result"
    }
   ],
   "source": [
    "SLdf.replace(-99, np.nan, inplace=True)\n",
    "SLdf['Date']"
   ]
  },
  {
   "cell_type": "code",
   "execution_count": 435,
   "id": "d5c641a2",
   "metadata": {},
   "outputs": [],
   "source": [
    "SLdf['Value']=SLdf['Value'].interpolate()"
   ]
  },
  {
   "cell_type": "code",
   "execution_count": null,
   "id": "e79b7541",
   "metadata": {},
   "outputs": [],
   "source": []
  },
  {
   "cell_type": "code",
   "execution_count": null,
   "id": "088b3236",
   "metadata": {},
   "outputs": [],
   "source": []
  }
 ],
 "metadata": {
  "kernelspec": {
   "display_name": "Python 3 (ipykernel)",
   "language": "python",
   "name": "python3"
  },
  "language_info": {
   "codemirror_mode": {
    "name": "ipython",
    "version": 3
   },
   "file_extension": ".py",
   "mimetype": "text/x-python",
   "name": "python",
   "nbconvert_exporter": "python",
   "pygments_lexer": "ipython3",
   "version": "3.9.7"
  }
 },
 "nbformat": 4,
 "nbformat_minor": 5
}
