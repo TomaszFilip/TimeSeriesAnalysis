{
 "cells": [
  {
   "cell_type": "code",
   "execution_count": null,
   "id": "65000039",
   "metadata": {},
   "outputs": [],
   "source": [
    "import pandas as pd\n",
    "import numpy as np\n",
    "\n",
    "PLdf = pd.read_csv('PLvacation.csv', header=1)\n",
    "GBdf = pd.read_csv('GBvacation.csv', header=1)\n",
    "USAdf = pd.read_csv('USAvacation.csv', header=1)\n",
    "\n",
    "PLdf['datetime']=pd.to_datetime(PLdf['Miesiąc'])\n",
    "PLdf.drop('Miesiąc',axis=1,inplace=True)\n",
    "\n",
    "GBdf['datetime']=pd.to_datetime(GBdf['Miesiąc'])\n",
    "GBdf.drop('Miesiąc',axis=1,inplace=True)\n",
    "\n",
    "USAdf['datetime']=pd.to_datetime(USAdf['Miesiąc'])\n",
    "USAdf.drop('Miesiąc',axis=1,inplace=True)\n"
   ]
  },
  {
   "cell_type": "code",
   "execution_count": null,
   "id": "62b59780",
   "metadata": {},
   "outputs": [],
   "source": [
    "PLdf.rename(columns={'vacation: (Polska)': \"PL\"}, inplace=True)\n",
    "GBdf.rename(columns={'vacation: (Wielka Brytania)': \"GB\"}, inplace=True)\n",
    "USAdf.rename(columns={'vacation: (Stany Zjednoczone)': \"USA\"}, inplace=True)"
   ]
  },
  {
   "cell_type": "code",
   "execution_count": null,
   "id": "a184f83c",
   "metadata": {},
   "outputs": [],
   "source": [
    "frames = [PLdf, GBdf, USAdf]\n",
    "\n",
    "df=pd.merge(PLdf, GBdf, on=('datetime'))\n",
    "df=pd.merge(df, USAdf, on=('datetime'))\n",
    "columns_titles = [\"datetime\",\"PL\",\"GB\",\"USA\"]\n",
    "\n",
    "df=df.reindex(columns=columns_titles)\n",
    "df"
   ]
  },
  {
   "cell_type": "code",
   "execution_count": null,
   "id": "179ad5a4",
   "metadata": {},
   "outputs": [],
   "source": [
    "import matplotlib.pyplot as plt\n",
    "df.plot(x='datetime')"
   ]
  },
  {
   "cell_type": "code",
   "execution_count": null,
   "id": "42a240d5",
   "metadata": {},
   "outputs": [],
   "source": [
    "df.describe()\n"
   ]
  },
  {
   "cell_type": "code",
   "execution_count": null,
   "id": "f219dce6",
   "metadata": {},
   "outputs": [],
   "source": [
    "df.hist(by='datetime')"
   ]
  },
  {
   "cell_type": "code",
   "execution_count": null,
   "id": "953e9eb6",
   "metadata": {},
   "outputs": [],
   "source": []
  }
 ],
 "metadata": {
  "kernelspec": {
   "display_name": "Python 3 (ipykernel)",
   "language": "python",
   "name": "python3"
  },
  "language_info": {
   "codemirror_mode": {
    "name": "ipython",
    "version": 3
   },
   "file_extension": ".py",
   "mimetype": "text/x-python",
   "name": "python",
   "nbconvert_exporter": "python",
   "pygments_lexer": "ipython3",
   "version": "3.9.7"
  }
 },
 "nbformat": 4,
 "nbformat_minor": 5
}
