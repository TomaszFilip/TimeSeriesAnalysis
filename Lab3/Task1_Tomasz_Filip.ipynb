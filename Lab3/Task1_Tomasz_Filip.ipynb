{
 "cells": [
  {
   "cell_type": "code",
   "execution_count": 150,
   "id": "c5410851",
   "metadata": {},
   "outputs": [
    {
     "data": {
      "text/html": [
       "<div>\n",
       "<style scoped>\n",
       "    .dataframe tbody tr th:only-of-type {\n",
       "        vertical-align: middle;\n",
       "    }\n",
       "\n",
       "    .dataframe tbody tr th {\n",
       "        vertical-align: top;\n",
       "    }\n",
       "\n",
       "    .dataframe thead th {\n",
       "        text-align: right;\n",
       "    }\n",
       "</style>\n",
       "<table border=\"1\" class=\"dataframe\">\n",
       "  <thead>\n",
       "    <tr style=\"text-align: right;\">\n",
       "      <th></th>\n",
       "      <th>0</th>\n",
       "    </tr>\n",
       "  </thead>\n",
       "  <tbody>\n",
       "    <tr>\n",
       "      <th>0</th>\n",
       "      <td>39.043173</td>\n",
       "    </tr>\n",
       "    <tr>\n",
       "      <th>1</th>\n",
       "      <td>46.244557</td>\n",
       "    </tr>\n",
       "    <tr>\n",
       "      <th>2</th>\n",
       "      <td>19.793873</td>\n",
       "    </tr>\n",
       "    <tr>\n",
       "      <th>3</th>\n",
       "      <td>24.684682</td>\n",
       "    </tr>\n",
       "    <tr>\n",
       "      <th>4</th>\n",
       "      <td>25.084059</td>\n",
       "    </tr>\n",
       "  </tbody>\n",
       "</table>\n",
       "</div>"
      ],
      "text/plain": [
       "           0\n",
       "0  39.043173\n",
       "1  46.244557\n",
       "2  19.793873\n",
       "3  24.684682\n",
       "4  25.084059"
      ]
     },
     "execution_count": 150,
     "metadata": {},
     "output_type": "execute_result"
    }
   ],
   "source": [
    "import pandas as pd\n",
    "import numpy as np\n",
    "from sklearn.metrics import mean_squared_error\n",
    "\n",
    "alg=pd.read_csv('AlgeriaExport.txt', header=None)\n",
    "\n",
    "\n",
    "alg.head()\n"
   ]
  },
  {
   "cell_type": "code",
   "execution_count": 152,
   "id": "da290878",
   "metadata": {},
   "outputs": [
    {
     "name": "stdout",
     "output_type": "stream",
     "text": [
      "Minimal MSE error for alpha:  0.8400000000000001 , optimal alpha value from statsmodel:  0.8397833478991826\n"
     ]
    }
   ],
   "source": [
    "from  statsmodels.tsa.api import SimpleExpSmoothing\n",
    "\n",
    "fit=SimpleExpSmoothing(alg[0], initialization_method=\"estimated\").fit()\n",
    "optimal_alpha=fit.model.params[\"smoothing_level\"]\n",
    "\n",
    "def SimpleAlphaSmoothing(alpha, t_1, t):\n",
    "    return alpha*t_1+(1-alpha)*t\n",
    "\n",
    "def countMSE(alpha):\n",
    "    reals=alg[0]\n",
    "    comp=[alg[0][0]]\n",
    "    ests=[alg[0][0]]\n",
    "    for i in range (1, reals.size):\n",
    "        est=SimpleAlphaSmoothing(alpha,reals[i-1],ests[i-1])\n",
    "        ests.append(est)\n",
    "        comp.append(reals[i])\n",
    "    MSE=mean_squared_error(comp,ests)\n",
    "    return MSE\n",
    "\n",
    "lowestMSE=100*alg.size  #something big enough to be overwitten in first iteration\n",
    "for alpha in np.arange(0.01,1.0,0.01):\n",
    "    if countMSE(alpha)<lowestMSE:    \n",
    "        lowestMSE=countMSE(alpha)\n",
    "        best_alpha=alpha\n",
    "    \n",
    "print(\"Minimal MSE error for alpha: \",best_alpha,\", optimal alpha value from statsmodel: \",optimal_alpha )"
   ]
  },
  {
   "cell_type": "code",
   "execution_count": null,
   "id": "b0fac1d8",
   "metadata": {},
   "outputs": [],
   "source": []
  }
 ],
 "metadata": {
  "kernelspec": {
   "display_name": "Python 3 (ipykernel)",
   "language": "python",
   "name": "python3"
  },
  "language_info": {
   "codemirror_mode": {
    "name": "ipython",
    "version": 3
   },
   "file_extension": ".py",
   "mimetype": "text/x-python",
   "name": "python",
   "nbconvert_exporter": "python",
   "pygments_lexer": "ipython3",
   "version": "3.9.7"
  }
 },
 "nbformat": 4,
 "nbformat_minor": 5
}
