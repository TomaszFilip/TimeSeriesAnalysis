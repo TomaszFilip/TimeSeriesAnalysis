{
 "cells": [
  {
   "cell_type": "code",
   "execution_count": 17,
   "id": "edadc497",
   "metadata": {},
   "outputs": [],
   "source": [
    "import numpy as np\n",
    "import pandas as pd\n",
    "import math\n",
    "import matplotlib.pyplot as plt\n",
    "from statsmodels.tsa.ar_model import AutoReg, ar_select_order\n",
    "\n",
    "data=pd.read_csv(\"robusta.txt\", header=0, sep=\"\\t\")"
   ]
  },
  {
   "cell_type": "code",
   "execution_count": 15,
   "id": "9d5f8411",
   "metadata": {},
   "outputs": [
    {
     "data": {
      "text/html": [
       "<div>\n",
       "<style scoped>\n",
       "    .dataframe tbody tr th:only-of-type {\n",
       "        vertical-align: middle;\n",
       "    }\n",
       "\n",
       "    .dataframe tbody tr th {\n",
       "        vertical-align: top;\n",
       "    }\n",
       "\n",
       "    .dataframe thead th {\n",
       "        text-align: right;\n",
       "    }\n",
       "</style>\n",
       "<table border=\"1\" class=\"dataframe\">\n",
       "  <thead>\n",
       "    <tr style=\"text-align: right;\">\n",
       "      <th></th>\n",
       "      <th>Month</th>\n",
       "      <th>Price</th>\n",
       "      <th>Change</th>\n",
       "    </tr>\n",
       "  </thead>\n",
       "  <tbody>\n",
       "    <tr>\n",
       "      <th>0</th>\n",
       "      <td>Jul 2002</td>\n",
       "      <td>0.63</td>\n",
       "      <td>-</td>\n",
       "    </tr>\n",
       "    <tr>\n",
       "      <th>1</th>\n",
       "      <td>Aug 2002</td>\n",
       "      <td>0.61</td>\n",
       "      <td>-3.17%</td>\n",
       "    </tr>\n",
       "    <tr>\n",
       "      <th>2</th>\n",
       "      <td>Sep 2002</td>\n",
       "      <td>0.71</td>\n",
       "      <td>16.39%</td>\n",
       "    </tr>\n",
       "    <tr>\n",
       "      <th>3</th>\n",
       "      <td>Oct 2002</td>\n",
       "      <td>0.73</td>\n",
       "      <td>2.82%</td>\n",
       "    </tr>\n",
       "    <tr>\n",
       "      <th>4</th>\n",
       "      <td>Nov 2002</td>\n",
       "      <td>0.84</td>\n",
       "      <td>15.07%</td>\n",
       "    </tr>\n",
       "    <tr>\n",
       "      <th>...</th>\n",
       "      <td>...</td>\n",
       "      <td>...</td>\n",
       "      <td>...</td>\n",
       "    </tr>\n",
       "    <tr>\n",
       "      <th>230</th>\n",
       "      <td>Sep 2021</td>\n",
       "      <td>2.31</td>\n",
       "      <td>10.00%</td>\n",
       "    </tr>\n",
       "    <tr>\n",
       "      <th>231</th>\n",
       "      <td>Oct 2021</td>\n",
       "      <td>2.32</td>\n",
       "      <td>0.43%</td>\n",
       "    </tr>\n",
       "    <tr>\n",
       "      <th>232</th>\n",
       "      <td>Nov 2021</td>\n",
       "      <td>2.41</td>\n",
       "      <td>3.88%</td>\n",
       "    </tr>\n",
       "    <tr>\n",
       "      <th>233</th>\n",
       "      <td>Dec 2021</td>\n",
       "      <td>2.48</td>\n",
       "      <td>2.90%</td>\n",
       "    </tr>\n",
       "    <tr>\n",
       "      <th>234</th>\n",
       "      <td>Jan 2022</td>\n",
       "      <td>2.43</td>\n",
       "      <td>-2.02%</td>\n",
       "    </tr>\n",
       "  </tbody>\n",
       "</table>\n",
       "<p>235 rows × 3 columns</p>\n",
       "</div>"
      ],
      "text/plain": [
       "        Month  Price  Change\n",
       "0    Jul 2002   0.63       -\n",
       "1    Aug 2002   0.61  -3.17%\n",
       "2    Sep 2002   0.71  16.39%\n",
       "3    Oct 2002   0.73   2.82%\n",
       "4    Nov 2002   0.84  15.07%\n",
       "..        ...    ...     ...\n",
       "230  Sep 2021   2.31  10.00%\n",
       "231  Oct 2021   2.32   0.43%\n",
       "232  Nov 2021   2.41   3.88%\n",
       "233  Dec 2021   2.48   2.90%\n",
       "234  Jan 2022   2.43  -2.02%\n",
       "\n",
       "[235 rows x 3 columns]"
      ]
     },
     "execution_count": 15,
     "metadata": {},
     "output_type": "execute_result"
    }
   ],
   "source": [
    "data"
   ]
  },
  {
   "cell_type": "code",
   "execution_count": 91,
   "id": "6ebce8a7",
   "metadata": {},
   "outputs": [
    {
     "name": "stderr",
     "output_type": "stream",
     "text": [
      "C:\\anaconda3\\lib\\site-packages\\statsmodels\\tsa\\ar_model.py:248: FutureWarning: The parameter names will change after 0.12 is released. Set old_names to False to use the new names now. Set old_names to True to use the old names. \n",
      "  warnings.warn(\n"
     ]
    }
   ],
   "source": [
    "train=data.iloc[:223]\n",
    "test=data.iloc[223:]\n",
    "start=len(train)\n",
    "stop=len(data)-1\n",
    "AR3fit=AutoReg(data['Price'],lags=3).fit()\n",
    "predictionsAR3=AR3fit.predict(start=start,end=stop,dynamic=False)"
   ]
  },
  {
   "cell_type": "code",
   "execution_count": 92,
   "id": "ad8d1c9e",
   "metadata": {},
   "outputs": [
    {
     "data": {
      "text/plain": [
       "<AxesSubplot:>"
      ]
     },
     "execution_count": 92,
     "metadata": {},
     "output_type": "execute_result"
    },
    {
     "data": {
      "image/png": "[encoded data removed]",
      "text/plain": [
       "<Figure size 432x288 with 1 Axes>"
      ]
     },
     "metadata": {
      "needs_background": "light"
     },
     "output_type": "display_data"
    }
   ],
   "source": [
    "train['Price'].iloc[215:].plot(legend=True,label='Train')\n",
    "test['Price'].plot(legend=True,label='Test')\n",
    "predictionsAR3.plot(legend=True,label='AR(3) predict')"
   ]
  },
  {
   "cell_type": "code",
   "execution_count": 61,
   "id": "ee15763a",
   "metadata": {},
   "outputs": [],
   "source": [
    "data['PriceDiff']=data['Price'].diff()"
   ]
  },
  {
   "cell_type": "code",
   "execution_count": 76,
   "id": "df4ccdd4",
   "metadata": {},
   "outputs": [
    {
     "data": {
      "text/plain": [
       "5      0.00\n",
       "6      0.07\n",
       "7     -0.01\n",
       "8     -0.08\n",
       "9      0.00\n",
       "       ... \n",
       "218    0.00\n",
       "219   -0.09\n",
       "220    0.09\n",
       "221   -0.01\n",
       "222   -0.03\n",
       "Name: PriceDiff, Length: 218, dtype: float64"
      ]
     },
     "execution_count": 76,
     "metadata": {},
     "output_type": "execute_result"
    }
   ],
   "source": [
    "data.iloc[5:223]['PriceDiff']"
   ]
  },
  {
   "cell_type": "code",
   "execution_count": 93,
   "id": "4c52df5f",
   "metadata": {},
   "outputs": [
    {
     "name": "stderr",
     "output_type": "stream",
     "text": [
      "C:\\anaconda3\\lib\\site-packages\\statsmodels\\tsa\\ar_model.py:248: FutureWarning: The parameter names will change after 0.12 is released. Set old_names to False to use the new names now. Set old_names to True to use the old names. \n",
      "  warnings.warn(\n"
     ]
    },
    {
     "data": {
      "text/plain": [
       "<AxesSubplot:>"
      ]
     },
     "execution_count": 93,
     "metadata": {},
     "output_type": "execute_result"
    },
    {
     "data": {
      "image/png": "[encoded data removed]",
      "text/plain": [
       "<Figure size 432x288 with 1 Axes>"
      ]
     },
     "metadata": {
      "needs_background": "light"
     },
     "output_type": "display_data"
    }
   ],
   "source": [
    "train=data.iloc[1:223]\n",
    "test=data.iloc[223:]\n",
    "start=len(train)\n",
    "stop=len(data)-1\n",
    "AR1fit=AutoReg(data.iloc[1:223]['PriceDiff'],lags=5).fit()\n",
    "predictionsAR1=AR1fit.predict(start=start,end=stop,dynamic=False)\n",
    "train['PriceDiff'].iloc[215:].plot(legend=True,label='Train')\n",
    "test['PriceDiff'].plot(legend=True,label='Test')\n",
    "predictionsAR1.plot(legend=True,label='AR(3) predict')"
   ]
  },
  {
   "cell_type": "code",
   "execution_count": null,
   "id": "dba14a2e",
   "metadata": {},
   "outputs": [],
   "source": []
  }
 ],
 "metadata": {
  "kernelspec": {
   "display_name": "Python 3 (ipykernel)",
   "language": "python",
   "name": "python3"
  },
  "language_info": {
   "codemirror_mode": {
    "name": "ipython",
    "version": 3
   },
   "file_extension": ".py",
   "mimetype": "text/x-python",
   "name": "python",
   "nbconvert_exporter": "python",
   "pygments_lexer": "ipython3",
   "version": "3.9.7"
  }
 },
 "nbformat": 4,
 "nbformat_minor": 5
}
