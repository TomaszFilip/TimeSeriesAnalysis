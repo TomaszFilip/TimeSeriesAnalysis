{
 "cells": [
  {
   "cell_type": "code",
   "execution_count": 54,
   "id": "c5410851",
   "metadata": {},
   "outputs": [
    {
     "name": "stdout",
     "output_type": "stream",
     "text": [
      "(985, 6)\n"
     ]
    },
    {
     "data": {
      "text/html": [
       "<div>\n",
       "<style scoped>\n",
       "    .dataframe tbody tr th:only-of-type {\n",
       "        vertical-align: middle;\n",
       "    }\n",
       "\n",
       "    .dataframe tbody tr th {\n",
       "        vertical-align: top;\n",
       "    }\n",
       "\n",
       "    .dataframe thead th {\n",
       "        text-align: right;\n",
       "    }\n",
       "</style>\n",
       "<table border=\"1\" class=\"dataframe\">\n",
       "  <thead>\n",
       "    <tr style=\"text-align: right;\">\n",
       "      <th></th>\n",
       "      <th>Adj Close</th>\n",
       "    </tr>\n",
       "    <tr>\n",
       "      <th>Date</th>\n",
       "      <th></th>\n",
       "    </tr>\n",
       "  </thead>\n",
       "  <tbody>\n",
       "    <tr>\n",
       "      <th>1962-06-15</th>\n",
       "      <td>0.948818</td>\n",
       "    </tr>\n",
       "    <tr>\n",
       "      <th>1962-06-18</th>\n",
       "      <td>0.938150</td>\n",
       "    </tr>\n",
       "    <tr>\n",
       "      <th>1962-06-19</th>\n",
       "      <td>0.955931</td>\n",
       "    </tr>\n",
       "    <tr>\n",
       "      <th>1962-06-20</th>\n",
       "      <td>0.933171</td>\n",
       "    </tr>\n",
       "    <tr>\n",
       "      <th>1962-06-21</th>\n",
       "      <td>0.898319</td>\n",
       "    </tr>\n",
       "  </tbody>\n",
       "</table>\n",
       "</div>"
      ],
      "text/plain": [
       "            Adj Close\n",
       "Date                 \n",
       "1962-06-15   0.948818\n",
       "1962-06-18   0.938150\n",
       "1962-06-19   0.955931\n",
       "1962-06-20   0.933171\n",
       "1962-06-21   0.898319"
      ]
     },
     "execution_count": 54,
     "metadata": {},
     "output_type": "execute_result"
    },
    {
     "data": {
      "image/png": "[encoded data removed]",
      "text/plain": [
       "<Figure size 432x288 with 1 Axes>"
      ]
     },
     "metadata": {
      "needs_background": "light"
     },
     "output_type": "display_data"
    }
   ],
   "source": [
    "import pandas as pd\n",
    "import matplotlib.pyplot as plt\n",
    "import numpy as np\n",
    "from sklearn.metrics import mean_squared_error\n",
    "from statsmodels.tsa.holtwinters import Holt as Holtstatsmodel\n",
    "\n",
    "data=pd.read_csv(\"IBM.csv\", index_col=0, header=0)\n",
    "print(data.shape)\n",
    "data.head()\n",
    "close=data.iloc[:,4:5]\n",
    "linear=close.iloc[93:]\n",
    "\n",
    "linear.shape\n",
    "plt.figure()\n",
    "plt.xticks(np.arange(0,985,200))\n",
    "plt.plot(linear)\n",
    "\n",
    "linear.head()"
   ]
  },
  {
   "cell_type": "code",
   "execution_count": null,
   "id": "da290878",
   "metadata": {},
   "outputs": [],
   "source": [
    "def Holt(alpha, beta, lt_1, bt_1, h=1):\n",
    "    lt=alpha*lt_1+(1-alpha)*(lt_1+bt_1)\n",
    "    bt=beta*(lt-lt_1)+(1-beta)*bt_1\n",
    "    return (lt+h*bt, lt, bt)\n",
    "\n",
    "def countMSE(alpha,beta):\n",
    "    reals=linear[\"Adj Close\"]\n",
    "    lts=[linear[\"Adj Close\"][0]]\n",
    "    bts=[linear[\"Adj Close\"][1]-linear[\"Adj Close\"][0]]\n",
    "    ests=[linear[\"Adj Close\"][0]]\n",
    "    for i in range (1,reals.size):\n",
    "        est,lt,bt=Holt(alpha,beta,lts[i-1],bts[i-1])\n",
    "        ests.append(est)\n",
    "        lts.append(lt)\n",
    "        bts.append(bt)\n",
    "    MSE=mean_squared_error(reals,ests)\n",
    "    return MSE    \n",
    "fit=Holtstatsmodel(linear[\"Adj Close\"], initialization_method=\"estimated\").fit()\n",
    "optimal_alpha, optimal_beta=fit.model.params[\"smoothing_level\"], fit.model.params[\"smoothing_trend\"]         "
   ]
  },
  {
   "cell_type": "code",
   "execution_count": 68,
   "id": "872f3358",
   "metadata": {},
   "outputs": [
    {
     "name": "stdout",
     "output_type": "stream",
     "text": [
      "Minimal MSE error for alpha:  0.99 ,beta:  0.99 , optimal alpha, beta values from statsmodel:  0.996771449825978 ,  0.0\n"
     ]
    }
   ],
   "source": [
    "lowestMSE=100*linear.size  #something big enough to be overwitten in first iteration\n",
    "for beta in np.arange(0.00,1.0,0.01):\n",
    "    for alpha in np.arange(0.00,1.0,0.01):\n",
    "        if countMSE(alpha,beta)<lowestMSE:    \n",
    "            lowestMSE=countMSE(alpha,beta)\n",
    "            best_alpha=alpha\n",
    "            best_beta=beta\n",
    "\n",
    "print(\"Minimal MSE error for alpha: \",best_alpha,\",beta: \",beta,\", optimal alpha, beta values from statsmodel: \",optimal_alpha,\", \",optimal_beta)"
   ]
  },
  {
   "cell_type": "markdown",
   "id": "c0f073c3",
   "metadata": {},
   "source": [
    "Turns out that alpha value from grid search is similar to statsmodel. Beta value that I've got from grid search is different. I must have made some mistake in my implementation...\n"
   ]
  },
  {
   "cell_type": "code",
   "execution_count": null,
   "id": "1f63da90",
   "metadata": {},
   "outputs": [],
   "source": []
  }
 ],
 "metadata": {
  "kernelspec": {
   "display_name": "Python 3 (ipykernel)",
   "language": "python",
   "name": "python3"
  },
  "language_info": {
   "codemirror_mode": {
    "name": "ipython",
    "version": 3
   },
   "file_extension": ".py",
   "mimetype": "text/x-python",
   "name": "python",
   "nbconvert_exporter": "python",
   "pygments_lexer": "ipython3",
   "version": "3.9.7"
  }
 },
 "nbformat": 4,
 "nbformat_minor": 5
}
